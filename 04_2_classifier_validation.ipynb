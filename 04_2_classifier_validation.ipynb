{
 "cells": [
  {
   "cell_type": "markdown",
   "id": "8c0abed5-b66a-4330-a56f-51ad6fc36c3a",
   "metadata": {},
   "source": [
    "### Classifier Validation (2)| FORUMS.RED \n",
    "\n",
    "Validation Procedure | Each theme’s keyword set was validated by:\n",
    "- Retrieving 30 random documents containing any of the keywords\n",
    "- Manually coding each document as True (relevant) or False (irrelevant)\n",
    "- Calculating precision as the share of True documents"
   ]
  },
  {
   "cell_type": "code",
   "execution_count": 2,
   "id": "aa5d4598-1042-4294-8438-e9a37361758f",
   "metadata": {},
   "outputs": [],
   "source": [
    "import pandas as pd\n",
    "import re"
   ]
  },
  {
   "cell_type": "code",
   "execution_count": 3,
   "id": "434c76f9-848e-483c-97c4-ca6090f5df87",
   "metadata": {},
   "outputs": [],
   "source": [
    "df = pd.read_csv('red_pill_dataset.csv')"
   ]
  },
  {
   "cell_type": "code",
   "execution_count": 4,
   "id": "38875242-230f-4b7d-a155-021238020ccd",
   "metadata": {},
   "outputs": [],
   "source": [
    "theme_keywords_list = [\n",
    "    \"beta bucks\", \"provisioning\", \"beta bux\", \"gold digger\", \"golddigger\", \"betabux\", \"provision\", \"provider\",\n",
    "    \"sugar daddy\", \"sugardaddy\", \"prenup\"\n",
    "]\n",
    "theme_keywords = [\"prenup\"]"
   ]
  },
  {
   "cell_type": "code",
   "execution_count": 5,
   "id": "b0af7ae4-fde5-497f-bab5-eb681a978f2b",
   "metadata": {},
   "outputs": [],
   "source": [
    "# Build a regex pattern from your keyword list\n",
    "theme_keywords_pattern = r'\\b(?:' + '|'.join(map(re.escape, theme_keywords)) + r')\\b'\n",
    "\n",
    "# Filter the DataFrame\n",
    "theme_keywords_pattern_df = df[df['text'].str.contains(theme_keywords_pattern, case=False, na=False)]"
   ]
  },
  {
   "cell_type": "code",
   "execution_count": 6,
   "id": "9fc2abac-046c-462f-997d-058e4b32db7e",
   "metadata": {},
   "outputs": [
    {
     "name": "stdout",
     "output_type": "stream",
     "text": [
      "\n",
      "Sample 1:\n",
      "Hey man, I know how this feels. I've seen many friends go through this but I always ask them and want to ask you this question: Why did you not get a prenup? (I know it doesn't apply to child support but generally speaking) \n",
      "\n",
      "Sample 2:\n",
      "Having children is a biological imperative.  It's a mental illness to NOT want children.\n",
      "The RP take on it is to WAIT until you are older to have children and really vet your potential baby momma.  Also, sign a prenup. \n",
      "\n",
      "Sample 3:\n",
      "If he's asking you to give up your earning power in order to support his , you are entitled to 50% of the power in those spending decisions. There's no need that you should give up your financial independence just because you'll be taking care of the \"home\" part of the partnership. I would get all of this in a prenup so there is no ambiguity. Now, if you simply want to be able to work and earn your own money for the sense of fulfillment it often provides, and it's a hard-need for you, communicate that clearly as a dealbreaker and accept the consequences if it yields a breakup. Strange that he would be springing this on you so late in the game, though. \n",
      "\n",
      "Sample 4:\n",
      "Married man sex life + Rollo\n",
      "And both sidebars AskTRP, TRP.\n",
      "Visit MRP.\n",
      "Visit divorces na rddt Read 3times Reading 1 feminist book doesn't mean much yet. Combined with mentions  about feminism sometimes, even rare + Netflix does  create patterns. BTW I read some parts twice as she sounded like someone I know. Age differs. Coohabit don't marry, not only you sign contract but this contract can be altered by gov anytime in the future without your consent, and prenup will mean shit. Check that coohabitation doesn't count for marriage. \n",
      "\n",
      "Sample 5:\n",
      "Fuck man why didn’t you get a prenup. This sucks but on a positive note he will need to make money so maybe we finally get that chronic detox album lol. 12\n",
      "\n",
      "Sample 6:\n",
      "Ensure the prenup is finalized at least six months away from the wedding. If it's signed too close to the big day, she may be able to use the duress argument during divorce proceedings. 3\n",
      "\n",
      "Sample 7:\n",
      "400 acres....   no prenup? Does she accept a side chick? I'd need a lit viagra 4 that kweehn. \n",
      "\n",
      "Sample 8:\n",
      "judges can say \"Nah... fuck this prenup bro! pay up\" 1\n",
      "\n",
      "Sample 9:\n",
      "If it's him, tell him I've said congratulations. And that he shouldn't marry without a prenup. \n",
      "\n",
      "Sample 10:\n",
      "You took an even bigger risk than usual getting married at 18. Couples who tie the knot at that age have a higher divorce rate than the already high average. But if you manage to buck that trend, good on you. Is there a prenup in place? \n"
     ]
    }
   ],
   "source": [
    "# Sample 10 random rows (adjust n as needed)\n",
    "theme_sampled_rows = theme_keywords_pattern_df.sample(n=10)\n",
    "\n",
    "# Print the 'text' column for each sampled row\n",
    "for i, text in enumerate(theme_sampled_rows['text'], 1):\n",
    "    print(f\"\\nSample {i}:\\n{text}\")\n"
   ]
  },
  {
   "cell_type": "markdown",
   "id": "5b997103-31e8-4d9e-9381-1f5e4b28c5ed",
   "metadata": {},
   "source": [
    "\n",
    "### Precision Table\n",
    "\n",
    "| Theme | Precision|\n",
    "|-----|-------|\n",
    "| Masculinity Guidance |73.3% |\n",
    "| Market Logic of Sexual Worth |83.3% |\n",
    "| Resistance to Financial Attraction | 73.3% |"
   ]
  }
 ],
 "metadata": {
  "kernelspec": {
   "display_name": "Python 3 (ipykernel)",
   "language": "python",
   "name": "python3"
  },
  "language_info": {
   "codemirror_mode": {
    "name": "ipython",
    "version": 3
   },
   "file_extension": ".py",
   "mimetype": "text/x-python",
   "name": "python",
   "nbconvert_exporter": "python",
   "pygments_lexer": "ipython3",
   "version": "3.12.7"
  }
 },
 "nbformat": 4,
 "nbformat_minor": 5
}

{
 "cells": [
  {
   "cell_type": "markdown",
   "id": "586aeac4-4623-4f09-a676-5993c17f910e",
   "metadata": {},
   "source": [
    "### Classification and Quantitative Analysis (1) | FORUMS.RED \n",
    "\n",
    "This notebook implements a rule-based keyword classifier to label threads with three core discourse themes:\n",
    "Masculinity Guidance, Market Logic of Sexual Worth, Resistance to Financially Motivated Attraction\n",
    "\n",
    "We applied the classifier to full discussion threads (post + comments). A thread was labeled if any part matched the keyword set, reflecting how readers encounter themes in forum discourse. Threads may match multiple themes."
   ]
  },
  {
   "cell_type": "code",
   "execution_count": 49,
   "id": "63b23880-0243-4f58-affa-42e0bee61f39",
   "metadata": {},
   "outputs": [],
   "source": [
    "import pandas as pd\n",
    "import re\n",
    "import matplotlib.pyplot as plt\n",
    "import itertools\n",
    "from matplotlib import pyplot as plt\n",
    "from matplotlib_venn import venn3\n",
    "import matplotlib.patches as patches"
   ]
  },
  {
   "cell_type": "code",
   "execution_count": 14,
   "id": "61a782fd-7f5e-461b-be1d-b4369e9f6299",
   "metadata": {},
   "outputs": [],
   "source": [
    "import plotly.graph_objects as go"
   ]
  },
  {
   "cell_type": "code",
   "execution_count": 2,
   "id": "576af785-55ec-421e-8781-bfebbd4eb52d",
   "metadata": {},
   "outputs": [],
   "source": [
    "anti_provisioning_keywords = [\"beta bucks\", \"provisioning\", \"beta bux\", \"beta buxx\", \"gold digger\", \"golddigger\", \"betabux\", \"betabuxx\", \n",
    "                                                \"provision\", \"provider\", \"sugar daddy\", \"sugardaddy\", \"prenup\", \"child support\", \"alimony\", \"anchor baby\"]\n",
    "\n",
    "market_logic_keywords = [\"smv\", \"sexual market value\", \"high value\", \"/10\", \"low value\", \"top 10\", \"top 20\", \"top 15\" \"top 30\", \n",
    "                        \"2s\", \"3s\", \"4s\", \"5s\", \"6s\", \"7s\", \"8s\", \"9s\", \"10s\", \"his league\", \"her league\", \"your league\", \"out of 10\", \"out of ten\"]\n",
    "\n",
    "guidance_keywords = [\"self-improvement\", \"self improvement\", \"dating\", \"status\", \"fitness\", \"grooming\", \"frame\", \"alpha\", \"discipline\", \"mission\", \"shit test\"]\n"
   ]
  },
  {
   "cell_type": "code",
   "execution_count": 3,
   "id": "222c7a3f-5032-41ab-9555-368dd77eb58c",
   "metadata": {},
   "outputs": [],
   "source": [
    "df = pd.read_csv('all_posts_comments.csv')"
   ]
  },
  {
   "cell_type": "code",
   "execution_count": 4,
   "id": "ff5acec4-e6b1-4e0e-96b1-3031ad0a4b9d",
   "metadata": {},
   "outputs": [],
   "source": [
    "anti_provisioning_keywords_pattern = '|'.join(anti_provisioning_keywords)\n",
    "market_logic_keywords_pattern = '|'.join(market_logic_keywords)\n",
    "guidance_keywords_pattern = '|'.join(guidance_keywords)"
   ]
  },
  {
   "cell_type": "code",
   "execution_count": 5,
   "id": "bf9bd3f2-43c2-4e47-8592-847ff8183c1f",
   "metadata": {},
   "outputs": [],
   "source": [
    "# Add binary columns based on keyword pattern matches\n",
    "df['anti_provisioning_match'] = df['full_text'].str.contains(anti_provisioning_keywords_pattern, case=False, na=False).astype(int)\n",
    "\n",
    "df['market_logic_match'] = df['full_text'].str.contains(market_logic_keywords_pattern, case=False, na=False).astype(int)\n",
    "\n",
    "df['guidance_match'] = df['full_text'].str.contains(guidance_keywords_pattern, case=False, na=False).astype(int)\n"
   ]
  },
  {
   "cell_type": "code",
   "execution_count": 6,
   "id": "ac07d1a4-e123-4ea9-80c1-1c8f35ddf836",
   "metadata": {},
   "outputs": [],
   "source": [
    "def bucket_years_ago(s):\n",
    "    if pd.isna(s):\n",
    "        return np.nan\n",
    "    s = s.strip().lower()\n",
    "    if s.endswith(\"ago\"):\n",
    "        s = s.replace(\"ago\", \"\").strip()\n",
    "\n",
    "    try:\n",
    "        if \"y\" in s:\n",
    "            return int(s.replace(\"y\", \"\"))\n",
    "        elif \"m\" in s or \"d\" in s or \"w\" in s:\n",
    "            return 0  # Less than 1 year\n",
    "        else:\n",
    "            return np.nan\n",
    "    except:\n",
    "        return np.nan"
   ]
  },
  {
   "cell_type": "code",
   "execution_count": 7,
   "id": "74fd277a-45ba-4ce8-897c-ca210acc04f1",
   "metadata": {},
   "outputs": [],
   "source": [
    "df['years_ago_bucket'] = df['time_since'].apply(bucket_years_ago)"
   ]
  },
  {
   "cell_type": "code",
   "execution_count": 8,
   "id": "ce07c346-2047-4b48-ac61-2e6dcb6fa323",
   "metadata": {},
   "outputs": [
    {
     "data": {
      "text/plain": [
       "12317"
      ]
     },
     "execution_count": 8,
     "metadata": {},
     "output_type": "execute_result"
    }
   ],
   "source": [
    "len(df)"
   ]
  },
  {
   "cell_type": "code",
   "execution_count": 16,
   "id": "7b092860-a02d-475f-90ec-4d696f8ae992",
   "metadata": {},
   "outputs": [
    {
     "name": "stdout",
     "output_type": "stream",
     "text": [
      "<class 'pandas.core.frame.DataFrame'>\n",
      "RangeIndex: 12317 entries, 0 to 12316\n",
      "Data columns (total 13 columns):\n",
      " #   Column                   Non-Null Count  Dtype  \n",
      "---  ------                   --------------  -----  \n",
      " 0   post_id                  12317 non-null  int64  \n",
      " 1   time_since               12317 non-null  object \n",
      " 2   flair_nr                 12317 non-null  int64  \n",
      " 3   post_views               12317 non-null  int64  \n",
      " 4   score                    12317 non-null  int64  \n",
      " 5   full_text                12317 non-null  object \n",
      " 6   days_ago                 11704 non-null  float64\n",
      " 7   tokens                   12317 non-null  object \n",
      " 8   comment_count            12317 non-null  int64  \n",
      " 9   anti_provisioning_match  12317 non-null  int64  \n",
      " 10  market_logic_match       12317 non-null  int64  \n",
      " 11  guidance_match           12317 non-null  int64  \n",
      " 12  years_ago_bucket         12317 non-null  int64  \n",
      "dtypes: float64(1), int64(9), object(3)\n",
      "memory usage: 1.2+ MB\n"
     ]
    }
   ],
   "source": [
    "df.info()"
   ]
  },
  {
   "cell_type": "code",
   "execution_count": 33,
   "id": "3a89bf3b-e02b-4acd-9942-fd46736a952c",
   "metadata": {},
   "outputs": [
    {
     "name": "stdout",
     "output_type": "stream",
     "text": [
      "match_type\n",
      "guidance_match             8171\n",
      "market_logic_match         3755\n",
      "anti_provisioning_match    1796\n",
      "Name: count, dtype: int64\n"
     ]
    }
   ],
   "source": [
    "# Step 1: Define the binary match columns\n",
    "match_cols = ['anti_provisioning_match', 'market_logic_match', 'guidance_match']\n",
    "\n",
    "# Step 2: Melt the DataFrame to long format for analysis\n",
    "df_melted = df.melt(\n",
    "    id_vars=['post_views', 'score', 'days_ago', 'comment_count'],\n",
    "    value_vars=match_cols,\n",
    "    var_name='match_type',\n",
    "    value_name='match_value'\n",
    ")\n",
    "\n",
    "# Step 3: Keep only rows where the match_value is 1\n",
    "df_matched = df_melted[df_melted['match_value'] == 1]\n",
    "\n",
    "print(df_matched['match_type'].value_counts())\n",
    "\n",
    "# Step 4: Aggregate post_views, score, days_ago, comment_count by match_type\n",
    "agg_table = df_matched.groupby('match_type')[['post_views', 'score', 'days_ago', 'comment_count']].agg(\n",
    "    ['sum', 'mean', 'median','max','min']\n",
    ").round(2)"
   ]
  },
  {
   "cell_type": "code",
   "execution_count": 32,
   "id": "a44aa428-cc1e-46cf-a50c-67047eddf649",
   "metadata": {},
   "outputs": [
    {
     "data": {
      "text/html": [
       "<div>\n",
       "<style scoped>\n",
       "    .dataframe tbody tr th:only-of-type {\n",
       "        vertical-align: middle;\n",
       "    }\n",
       "\n",
       "    .dataframe tbody tr th {\n",
       "        vertical-align: top;\n",
       "    }\n",
       "\n",
       "    .dataframe thead th {\n",
       "        text-align: right;\n",
       "    }\n",
       "</style>\n",
       "<table border=\"1\" class=\"dataframe\">\n",
       "  <thead>\n",
       "    <tr style=\"text-align: right;\">\n",
       "      <th></th>\n",
       "      <th></th>\n",
       "      <th>sum</th>\n",
       "      <th>mean</th>\n",
       "      <th>median</th>\n",
       "      <th>max</th>\n",
       "      <th>min</th>\n",
       "    </tr>\n",
       "    <tr>\n",
       "      <th>match_type</th>\n",
       "      <th>metric</th>\n",
       "      <th></th>\n",
       "      <th></th>\n",
       "      <th></th>\n",
       "      <th></th>\n",
       "      <th></th>\n",
       "    </tr>\n",
       "  </thead>\n",
       "  <tbody>\n",
       "    <tr>\n",
       "      <th rowspan=\"4\" valign=\"top\">anti_provisioning_match</th>\n",
       "      <th>post_views</th>\n",
       "      <td>17274867.0</td>\n",
       "      <td>9618.52</td>\n",
       "      <td>1000.0</td>\n",
       "      <td>13600000.0</td>\n",
       "      <td>24.0</td>\n",
       "    </tr>\n",
       "    <tr>\n",
       "      <th>score</th>\n",
       "      <td>172750.0</td>\n",
       "      <td>96.19</td>\n",
       "      <td>19.0</td>\n",
       "      <td>1600.0</td>\n",
       "      <td>-9.0</td>\n",
       "    </tr>\n",
       "    <tr>\n",
       "      <th>days_ago</th>\n",
       "      <td>2416672.0</td>\n",
       "      <td>1402.60</td>\n",
       "      <td>1460.0</td>\n",
       "      <td>2190.0</td>\n",
       "      <td>7.0</td>\n",
       "    </tr>\n",
       "    <tr>\n",
       "      <th>comment_count</th>\n",
       "      <td>92949.0</td>\n",
       "      <td>51.75</td>\n",
       "      <td>23.0</td>\n",
       "      <td>969.0</td>\n",
       "      <td>0.0</td>\n",
       "    </tr>\n",
       "    <tr>\n",
       "      <th rowspan=\"4\" valign=\"top\">market_logic_match</th>\n",
       "      <th>post_views</th>\n",
       "      <td>19326070.0</td>\n",
       "      <td>5146.76</td>\n",
       "      <td>743.0</td>\n",
       "      <td>13600000.0</td>\n",
       "      <td>14.0</td>\n",
       "    </tr>\n",
       "    <tr>\n",
       "      <th>score</th>\n",
       "      <td>279845.0</td>\n",
       "      <td>74.53</td>\n",
       "      <td>3.0</td>\n",
       "      <td>2300.0</td>\n",
       "      <td>-17.0</td>\n",
       "    </tr>\n",
       "    <tr>\n",
       "      <th>days_ago</th>\n",
       "      <td>4819589.0</td>\n",
       "      <td>1351.16</td>\n",
       "      <td>1095.0</td>\n",
       "      <td>2190.0</td>\n",
       "      <td>1.0</td>\n",
       "    </tr>\n",
       "    <tr>\n",
       "      <th>comment_count</th>\n",
       "      <td>140827.0</td>\n",
       "      <td>37.50</td>\n",
       "      <td>16.0</td>\n",
       "      <td>969.0</td>\n",
       "      <td>0.0</td>\n",
       "    </tr>\n",
       "    <tr>\n",
       "      <th rowspan=\"4\" valign=\"top\">guidance_match</th>\n",
       "      <th>post_views</th>\n",
       "      <td>23236020.0</td>\n",
       "      <td>2843.72</td>\n",
       "      <td>571.0</td>\n",
       "      <td>13600000.0</td>\n",
       "      <td>11.0</td>\n",
       "    </tr>\n",
       "    <tr>\n",
       "      <th>score</th>\n",
       "      <td>414741.0</td>\n",
       "      <td>50.76</td>\n",
       "      <td>2.0</td>\n",
       "      <td>2300.0</td>\n",
       "      <td>-17.0</td>\n",
       "    </tr>\n",
       "    <tr>\n",
       "      <th>days_ago</th>\n",
       "      <td>10009011.0</td>\n",
       "      <td>1293.66</td>\n",
       "      <td>1095.0</td>\n",
       "      <td>2190.0</td>\n",
       "      <td>1.0</td>\n",
       "    </tr>\n",
       "    <tr>\n",
       "      <th>comment_count</th>\n",
       "      <td>205722.0</td>\n",
       "      <td>25.18</td>\n",
       "      <td>12.0</td>\n",
       "      <td>969.0</td>\n",
       "      <td>0.0</td>\n",
       "    </tr>\n",
       "  </tbody>\n",
       "</table>\n",
       "</div>"
      ],
      "text/plain": [
       "                                              sum     mean  median  \\\n",
       "match_type              metric                                       \n",
       "anti_provisioning_match post_views     17274867.0  9618.52  1000.0   \n",
       "                        score            172750.0    96.19    19.0   \n",
       "                        days_ago        2416672.0  1402.60  1460.0   \n",
       "                        comment_count     92949.0    51.75    23.0   \n",
       "market_logic_match      post_views     19326070.0  5146.76   743.0   \n",
       "                        score            279845.0    74.53     3.0   \n",
       "                        days_ago        4819589.0  1351.16  1095.0   \n",
       "                        comment_count    140827.0    37.50    16.0   \n",
       "guidance_match          post_views     23236020.0  2843.72   571.0   \n",
       "                        score            414741.0    50.76     2.0   \n",
       "                        days_ago       10009011.0  1293.66  1095.0   \n",
       "                        comment_count    205722.0    25.18    12.0   \n",
       "\n",
       "                                              max   min  \n",
       "match_type              metric                           \n",
       "anti_provisioning_match post_views     13600000.0  24.0  \n",
       "                        score              1600.0  -9.0  \n",
       "                        days_ago           2190.0   7.0  \n",
       "                        comment_count       969.0   0.0  \n",
       "market_logic_match      post_views     13600000.0  14.0  \n",
       "                        score              2300.0 -17.0  \n",
       "                        days_ago           2190.0   1.0  \n",
       "                        comment_count       969.0   0.0  \n",
       "guidance_match          post_views     13600000.0  11.0  \n",
       "                        score              2300.0 -17.0  \n",
       "                        days_ago           2190.0   1.0  \n",
       "                        comment_count       969.0   0.0  "
      ]
     },
     "execution_count": 32,
     "metadata": {},
     "output_type": "execute_result"
    }
   ],
   "source": [
    "# Define match columns and metrics\n",
    "match_cols = ['anti_provisioning_match', 'market_logic_match', 'guidance_match']\n",
    "metrics = ['post_views', 'score', 'days_ago', 'comment_count']\n",
    "\n",
    "results = []\n",
    "\n",
    "for col in match_cols:\n",
    "    filtered = df[df[col] == 1]\n",
    "    agg = filtered[metrics].agg(['sum', 'mean', 'median','max','min']).T\n",
    "    agg['match_type'] = col\n",
    "    agg['metric'] = agg.index  # Keep track of which metric this is\n",
    "    results.append(agg)\n",
    "\n",
    "# Combine and organize the output\n",
    "agg_table = pd.concat(results)\n",
    "agg_table = agg_table.set_index(['match_type', 'metric']).round(2)\n",
    "\n",
    "# Show the clean table\n",
    "agg_table"
   ]
  },
  {
   "cell_type": "code",
   "execution_count": 30,
   "id": "7c3a8c77-5cf6-4533-8e75-0a70ca75b9de",
   "metadata": {},
   "outputs": [
    {
     "data": {
      "text/plain": [
       "years_ago_bucket\n",
       "0     651\n",
       "1    1186\n",
       "2    1889\n",
       "3    4378\n",
       "4     929\n",
       "5     868\n",
       "6    2416\n",
       "Name: count, dtype: int64"
      ]
     },
     "execution_count": 30,
     "metadata": {},
     "output_type": "execute_result"
    }
   ],
   "source": [
    "df['years_ago_bucket'].value_counts().sort_index()\n"
   ]
  },
  {
   "cell_type": "code",
   "execution_count": 31,
   "id": "3411e5fb-6092-43aa-ab03-7dd30b5426e5",
   "metadata": {},
   "outputs": [
    {
     "data": {
      "text/plain": [
       "array([0, 1, 2, 4, 3, 5, 6])"
      ]
     },
     "execution_count": 31,
     "metadata": {},
     "output_type": "execute_result"
    }
   ],
   "source": [
    "df['years_ago_bucket'].unique()\n"
   ]
  },
  {
   "cell_type": "code",
   "execution_count": null,
   "id": "e8ebf4bf-55bc-48d8-bb32-d90c5d25310c",
   "metadata": {},
   "outputs": [],
   "source": [
    "# WE NEED TO GET THE ACCURACY SCORE FOR EACH OF OUR CLASSIFIERS/TOPICS"
   ]
  },
  {
   "cell_type": "code",
   "execution_count": 38,
   "id": "29954cef-96cd-4b12-a3a3-842a9b926a34",
   "metadata": {},
   "outputs": [
    {
     "name": "stdout",
     "output_type": "stream",
     "text": [
      "years_ago_bucket\n",
      "0    1300.0\n",
      "1    1200.0\n",
      "2     824.0\n",
      "3     279.0\n",
      "4     307.0\n",
      "5     530.0\n",
      "6     164.0\n",
      "Name: post_views, dtype: float64\n"
     ]
    }
   ],
   "source": [
    "# Drop NaNs to avoid errors\n",
    "view_df = df.dropna(subset=['years_ago_bucket', 'post_views'])\n",
    "\n",
    "# Calculate average views per year\n",
    "avg_views_per_year = view_df.groupby('years_ago_bucket')['post_views'].median().sort_index()\n",
    "\n",
    "# Display\n",
    "print(avg_views_per_year)\n"
   ]
  },
  {
   "cell_type": "code",
   "execution_count": 39,
   "id": "96da33a2-e0ed-4461-af37-49a614be7b8c",
   "metadata": {},
   "outputs": [
    {
     "data": {
      "text/plain": [
       "12317"
      ]
     },
     "execution_count": 39,
     "metadata": {},
     "output_type": "execute_result"
    }
   ],
   "source": [
    "len(view_df)"
   ]
  },
  {
   "cell_type": "code",
   "execution_count": 52,
   "id": "03b6b18a-4655-4f81-a56e-c5114eaea503",
   "metadata": {},
   "outputs": [
    {
     "data": {
      "image/png": "[encoded data removed]",
      "text/plain": [
       "<Figure size 800x600 with 1 Axes>"
      ]
     },
     "metadata": {},
     "output_type": "display_data"
    }
   ],
   "source": [
    "# Count how many posts fall into each theme combination\n",
    "A = df['anti_provisioning_match'] == 1\n",
    "B = df['market_logic_match'] == 1\n",
    "C = df['guidance_match'] == 1\n",
    "\n",
    "# Build the Venn counts\n",
    "venn_counts = {\n",
    "    '100': ((A) & (~B) & (~C)).sum(),\n",
    "    '010': ((~A) & (B) & (~C)).sum(),\n",
    "    '001': ((~A) & (~B) & (C)).sum(),\n",
    "    '110': ((A) & (B) & (~C)).sum(),\n",
    "    '101': ((A) & (~B) & (C)).sum(),\n",
    "    '011': ((~A) & (B) & (C)).sum(),\n",
    "    '111': ((A) & (B) & (C)).sum(),\n",
    "}\n",
    "\n",
    "# Plot\n",
    "plt.figure(figsize=(8, 6))\n",
    "v = venn3(\n",
    "    subsets=venn_counts,\n",
    "    set_labels=(\n",
    "        theme_display['anti_provisioning_match'],\n",
    "        theme_display['market_logic_match'],\n",
    "        theme_display['guidance_match']\n",
    "    )\n",
    ")\n"
   ]
  },
  {
   "cell_type": "code",
   "execution_count": 30,
   "id": "072c1670-b941-4dbe-8781-9a34d9050fbf",
   "metadata": {},
   "outputs": [
    {
     "name": "stdout",
     "output_type": "stream",
     "text": [
      "Number of unclassified posts: 3436\n"
     ]
    }
   ],
   "source": [
    "# Define your binary match columns\n",
    "match_cols = ['anti_provisioning_match', 'market_logic_match', 'guidance_match']\n",
    "\n",
    "# Find rows where all match columns are 0\n",
    "unclassified = df[(df[match_cols] == 0).all(axis=1)]\n",
    "\n",
    "# Count of unclassified posts\n",
    "unclassified_count = unclassified.shape[0]\n",
    "print(f\"Number of unclassified posts: {unclassified_count}\")"
   ]
  }
 ],
 "metadata": {
  "kernelspec": {
   "display_name": "Python 3 (ipykernel)",
   "language": "python",
   "name": "python3"
  },
  "language_info": {
   "codemirror_mode": {
    "name": "ipython",
    "version": 3
   },
   "file_extension": ".py",
   "mimetype": "text/x-python",
   "name": "python",
   "nbconvert_exporter": "python",
   "pygments_lexer": "ipython3",
   "version": "3.12.7"
  }
 },
 "nbformat": 4,
 "nbformat_minor": 5
}
